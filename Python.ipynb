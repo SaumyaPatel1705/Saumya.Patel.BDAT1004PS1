{
 "cells": [
  {
   "cell_type": "markdown",
   "id": "f0173ea9",
   "metadata": {},
   "source": [
    "# 6. You can turn a word into pig-Latin using the following two rules (simplified):\n",
    "# • If the word starts with a consonant, move that letter to the end and append 'ay'. For example, 'happy' becomes 'appyhay' and 'pencil' becomes 'encilpay'.\n",
    "# • If the word starts with a vowel, simply append 'way' to the end of the word.\n",
    "# For example, 'enter' becomes 'enterway' and 'other' becomes 'otherway' . For our purposes, there are 5 vowels: a, e, i, o, u (so we count y as a consonant).\n",
    "# Write a function pig() that takes a word (i.e., a string) as input and returns its pigLatin form. Your function should still work if the input word contains upper case characters."
   ]
  },
  {
   "cell_type": "code",
   "execution_count": 23,
   "id": "f27e813c",
   "metadata": {},
   "outputs": [
    {
     "name": "stdout",
     "output_type": "stream",
     "text": [
      "Enter the word: Saumya\n",
      "Out put of happy is: aumyasay\n"
     ]
    }
   ],
   "source": [
    "word=input(\"Enter the word: \")\n",
    "vowel=['a','e','i','o','u']\n",
    "def Pig(word):\n",
    "    if(word[0].lower() in vowel):\n",
    "        print(word +'way')\n",
    "    else:\n",
    "        print(word[1:].lower()+ word[0].lower()+'ay')\n",
    "        \n",
    "print(\"Out put of happy is:\", end=' ')\n",
    "Pig(word)"
   ]
  },
  {
   "cell_type": "markdown",
   "id": "4f9d2cd3",
   "metadata": {},
   "source": [
    "# Q:7 File bloodtype1.txt records blood-types of patients (A, B, AB, O or OO) at # a clinic.Write a function bldcount() that reads the file with name name and reports (i.e.,prints) how many patients there are in each bloodtype.\n"
   ]
  },
  {
   "cell_type": "code",
   "execution_count": 59,
   "id": "ee8ba071",
   "metadata": {},
   "outputs": [
    {
     "name": "stdout",
     "output_type": "stream",
     "text": [
      "OutPut is:\n",
      "Number of poeple has 15 bloodgroup\n",
      "Number of poeple has 13 bloodgroup\n",
      "Number of poeple has 1 bloodgroup\n",
      "Number of poeple has 1 bloodgroup\n",
      "Number of poeple has 0 bloodgroup\n"
     ]
    }
   ],
   "source": [
    "def bldcount():\n",
    "    file = open('bloodtype1.txt','r')\n",
    "    info=file.readlines()\n",
    "    for line in info:\n",
    "        data = line.split()\n",
    "        Blood_GroupA = data.count('A')\n",
    "        Blood_GroupAB = data.count('AB')\n",
    "        Blood_GroupB = data.count('B')\n",
    "        Blood_GroupO = data.count('O')\n",
    "        Blood_GroupOO = data.count('OO')\n",
    "        print(f\"Number of poeple has {Blood_GroupA} bloodgroup\")\n",
    "        print(f\"Number of poeple has {Blood_GroupAB} bloodgroup\")\n",
    "        print(f\"Number of poeple has {Blood_GroupB} bloodgroup\")\n",
    "        print(f\"Number of poeple has {Blood_GroupB} bloodgroup\")\n",
    "        print(f\"Number of poeple has {Blood_GroupOO} bloodgroup\")\n",
    "\n",
    "print(\"OutPut is:\")\n",
    "bldcount()"
   ]
  },
  {
   "cell_type": "markdown",
   "id": "daf36cb4",
   "metadata": {},
   "source": [
    "# Q:8 Write a function curconv() that takes as input:\n",
    "# a currency represented using a string\n",
    "# an amount and then converts and returns the amount in US dollars."
   ]
  },
  {
   "cell_type": "code",
   "execution_count": 9,
   "id": "78845713",
   "metadata": {},
   "outputs": [
    {
     "name": "stdout",
     "output_type": "stream",
     "text": [
      "Enter the country code from you want to exhange money: cny\n",
      "Type the amount you want to convert: 10000\n",
      "The conversion of 10000 Chinese Yuan to U.S. Dollar is 1550.1760000000002\n"
     ]
    }
   ],
   "source": [
    "def curconv( CountryCode, Amount):\n",
    "    f = open('currencies.txt','r') # Open File in read mode\n",
    "    readfile = f.read()\n",
    "    data = readfile.split('\\n')\n",
    "    Cur_List = []\n",
    "    for i in data:\n",
    "        Cur_List.append(i.split('\\t'))\n",
    "    for j in Cur_List:\n",
    "        if ( CountryCode.upper() in j ):\n",
    "            ConvertAmount = Amount * float(j[1]) # Convert Amount\n",
    "            print('The conversion of ' + str(Amount) + ' ' + j[2] + ' to U.S. Dollar is ' + str(ConvertAmount))\n",
    "    \n",
    "\n",
    "    \n",
    "countryCode=str(input('Enter the country code from you want to exhange money: '))\n",
    "amount=int(input('Type the amount you want to convert: '))\n",
    "# Call the function\n",
    "curconv(countryCode,amount)"
   ]
  },
  {
   "cell_type": "markdown",
   "id": "b9ab0e72",
   "metadata": {},
   "source": [
    "# Q:9 Each of the following will cause an exception (an error). Identify what type of exception each will cause.\n"
   ]
  },
  {
   "cell_type": "markdown",
   "id": "96b34b2d",
   "metadata": {},
   "source": [
    "\n",
    "# <font color=\"red\">Trying to add incompatible variables, as in adding 6 + ‘a’</font>"
   ]
  },
  {
   "cell_type": "code",
   "execution_count": 67,
   "id": "16380fde",
   "metadata": {},
   "outputs": [
    {
     "ename": "SyntaxError",
     "evalue": "invalid character '‘' (U+2018) (1397695615.py, line 1)",
     "output_type": "error",
     "traceback": [
      "\u001b[1;36m  File \u001b[1;32m\"C:\\Program Files\\KMSpico\\temp\\ipykernel_5564\\1397695615.py\"\u001b[1;36m, line \u001b[1;32m1\u001b[0m\n\u001b[1;33m    A =  6 + ‘a’;\u001b[0m\n\u001b[1;37m             ^\u001b[0m\n\u001b[1;31mSyntaxError\u001b[0m\u001b[1;31m:\u001b[0m invalid character '‘' (U+2018)\n"
     ]
    }
   ],
   "source": [
    "A =  6 + ‘a’;\n",
    "print(A)"
   ]
  },
  {
   "cell_type": "markdown",
   "id": "06246581",
   "metadata": {},
   "source": [
    "# <font color=\"red\">Referring to the 12th item of a list that has only 10 items</font>"
   ]
  },
  {
   "cell_type": "code",
   "execution_count": 68,
   "id": "5b91d0cb",
   "metadata": {},
   "outputs": [
    {
     "ename": "IndexError",
     "evalue": "list index out of range",
     "output_type": "error",
     "traceback": [
      "\u001b[1;31m---------------------------------------------------------------------------\u001b[0m",
      "\u001b[1;31mIndexError\u001b[0m                                Traceback (most recent call last)",
      "\u001b[1;32mC:\\Program Files\\KMSpico\\temp\\ipykernel_5564\\248090845.py\u001b[0m in \u001b[0;36m<module>\u001b[1;34m\u001b[0m\n\u001b[0;32m      1\u001b[0m \u001b[0mB\u001b[0m \u001b[1;33m=\u001b[0m \u001b[1;33m[\u001b[0m\u001b[1;36m1\u001b[0m\u001b[1;33m,\u001b[0m\u001b[1;36m2\u001b[0m\u001b[1;33m,\u001b[0m\u001b[1;36m3\u001b[0m\u001b[1;33m,\u001b[0m\u001b[1;36m4\u001b[0m\u001b[1;33m,\u001b[0m\u001b[1;36m5\u001b[0m\u001b[1;33m,\u001b[0m\u001b[1;36m6\u001b[0m\u001b[1;33m,\u001b[0m\u001b[1;36m7\u001b[0m\u001b[1;33m,\u001b[0m\u001b[1;36m8\u001b[0m\u001b[1;33m,\u001b[0m\u001b[1;36m9\u001b[0m\u001b[1;33m,\u001b[0m\u001b[1;36m10\u001b[0m\u001b[1;33m]\u001b[0m\u001b[1;33m;\u001b[0m\u001b[1;33m\u001b[0m\u001b[1;33m\u001b[0m\u001b[0m\n\u001b[1;32m----> 2\u001b[1;33m \u001b[0mprint\u001b[0m\u001b[1;33m(\u001b[0m\u001b[0mB\u001b[0m\u001b[1;33m[\u001b[0m\u001b[1;36m12\u001b[0m\u001b[1;33m]\u001b[0m\u001b[1;33m)\u001b[0m\u001b[1;33m\u001b[0m\u001b[1;33m\u001b[0m\u001b[0m\n\u001b[0m",
      "\u001b[1;31mIndexError\u001b[0m: list index out of range"
     ]
    }
   ],
   "source": [
    "B = [1,2,3,4,5,6,7,8,9,10];\n",
    "print(B[12])\n"
   ]
  },
  {
   "cell_type": "markdown",
   "id": "a2b367c4",
   "metadata": {},
   "source": [
    "# <font color=\"red\">Using a value that is out of range for a function’s input, such as calling math.sqrt(-1.0)</font>\n"
   ]
  },
  {
   "cell_type": "code",
   "execution_count": 69,
   "id": "d73188d4",
   "metadata": {},
   "outputs": [
    {
     "ename": "ValueError",
     "evalue": "math domain error",
     "output_type": "error",
     "traceback": [
      "\u001b[1;31m---------------------------------------------------------------------------\u001b[0m",
      "\u001b[1;31mValueError\u001b[0m                                Traceback (most recent call last)",
      "\u001b[1;32mC:\\Program Files\\KMSpico\\temp\\ipykernel_5564\\3755102649.py\u001b[0m in \u001b[0;36m<module>\u001b[1;34m\u001b[0m\n\u001b[0;32m      1\u001b[0m \u001b[1;32mimport\u001b[0m \u001b[0mmath\u001b[0m\u001b[1;33m\u001b[0m\u001b[1;33m\u001b[0m\u001b[0m\n\u001b[1;32m----> 2\u001b[1;33m \u001b[0mprint\u001b[0m\u001b[1;33m(\u001b[0m\u001b[0mmath\u001b[0m\u001b[1;33m.\u001b[0m\u001b[0msqrt\u001b[0m\u001b[1;33m(\u001b[0m\u001b[1;33m-\u001b[0m\u001b[1;36m1.0\u001b[0m\u001b[1;33m)\u001b[0m\u001b[1;33m)\u001b[0m\u001b[1;33m\u001b[0m\u001b[1;33m\u001b[0m\u001b[0m\n\u001b[0m",
      "\u001b[1;31mValueError\u001b[0m: math domain error"
     ]
    }
   ],
   "source": [
    "import math\n",
    "print(math.sqrt(-1.0))"
   ]
  },
  {
   "cell_type": "markdown",
   "id": "a7b56d92",
   "metadata": {},
   "source": [
    "# <font color=\"red\">Using an undeclared variable, such as print(x) when x has not been defined </font>"
   ]
  },
  {
   "cell_type": "code",
   "execution_count": 70,
   "id": "4b2b9834",
   "metadata": {},
   "outputs": [
    {
     "ename": "NameError",
     "evalue": "name 'x' is not defined",
     "output_type": "error",
     "traceback": [
      "\u001b[1;31m---------------------------------------------------------------------------\u001b[0m",
      "\u001b[1;31mNameError\u001b[0m                                 Traceback (most recent call last)",
      "\u001b[1;32mC:\\Program Files\\KMSpico\\temp\\ipykernel_5564\\1353120783.py\u001b[0m in \u001b[0;36m<module>\u001b[1;34m\u001b[0m\n\u001b[1;32m----> 1\u001b[1;33m \u001b[0mprint\u001b[0m\u001b[1;33m(\u001b[0m\u001b[0mx\u001b[0m\u001b[1;33m)\u001b[0m\u001b[1;33m\u001b[0m\u001b[1;33m\u001b[0m\u001b[0m\n\u001b[0m",
      "\u001b[1;31mNameError\u001b[0m: name 'x' is not defined"
     ]
    }
   ],
   "source": [
    "print(x)"
   ]
  },
  {
   "cell_type": "markdown",
   "id": "8889be7e",
   "metadata": {},
   "source": [
    "# <font color=\"red\">Trying to open a file that does not exist, such as mistyping the file name or looking in the wrong directory. </font>"
   ]
  },
  {
   "cell_type": "code",
   "execution_count": 81,
   "id": "cefb9920",
   "metadata": {},
   "outputs": [
    {
     "ename": "FileNotFoundError",
     "evalue": "[Errno 2] No such file or directory: 'bloodtype2.txt'",
     "output_type": "error",
     "traceback": [
      "\u001b[1;31m---------------------------------------------------------------------------\u001b[0m",
      "\u001b[1;31mFileNotFoundError\u001b[0m                         Traceback (most recent call last)",
      "\u001b[1;32mC:\\Program Files\\KMSpico\\temp\\ipykernel_5564\\3606885138.py\u001b[0m in \u001b[0;36m<module>\u001b[1;34m\u001b[0m\n\u001b[1;32m----> 1\u001b[1;33m \u001b[0mfile\u001b[0m \u001b[1;33m=\u001b[0m \u001b[0mopen\u001b[0m\u001b[1;33m(\u001b[0m\u001b[1;34m\"bloodtype2.txt\"\u001b[0m\u001b[1;33m)\u001b[0m\u001b[1;33m\u001b[0m\u001b[1;33m\u001b[0m\u001b[0m\n\u001b[0m\u001b[0;32m      2\u001b[0m \u001b[0minfo\u001b[0m\u001b[1;33m=\u001b[0m \u001b[0mfile\u001b[0m\u001b[1;33m.\u001b[0m\u001b[0mread\u001b[0m\u001b[1;33m(\u001b[0m\u001b[1;33m)\u001b[0m\u001b[1;33m\u001b[0m\u001b[1;33m\u001b[0m\u001b[0m\n",
      "\u001b[1;31mFileNotFoundError\u001b[0m: [Errno 2] No such file or directory: 'bloodtype2.txt'"
     ]
    }
   ],
   "source": [
    "file = open(\"bloodtype2.txt\")\n",
    "info= file.read()"
   ]
  },
  {
   "cell_type": "markdown",
   "id": "008dcf45",
   "metadata": {},
   "source": [
    "# Q:10 Encryption is the process of hiding the meaning of a text by substituting letters in themessage with other letters, according to some system. If the process is successful, no one but the intended recipient can understand the encrypted message. Cryptanalysis refers to attempts to undo the encryption, even if some details of the encryption are unknown (for example, if an encrypted message has been intercepted). The first step of cryptanalysis is often to build up a table of letter frequencies in the encrypted text.\n"
   ]
  },
  {
   "cell_type": "code",
   "execution_count": 10,
   "id": "0887110a",
   "metadata": {},
   "outputs": [
    {
     "name": "stdout",
     "output_type": "stream",
     "text": [
      "Enter the message that you want to find the character of the word: Patel Saumya Piyushkumar\n",
      "4 0 0 0 1 0 0 1 1 0 1 1 2 0 0 2 0 1 2 1 3 0 0 0 2 0 "
     ]
    }
   ],
   "source": [
    "Code= input(\"Enter the message that you want to find the character of the word: \")\n",
    "\n",
    "\n",
    "S= ['a','b','c','d','e','f','g','h','i','j','k','l','m','n','o','p','q','r','s','t','u','v','w','x','y','z']\n",
    "  \n",
    "for i in S:\n",
    "    print(Code.lower().count(i),end=\" \")"
   ]
  },
  {
   "cell_type": "code",
   "execution_count": null,
   "id": "28ab70b0",
   "metadata": {},
   "outputs": [],
   "source": []
  }
 ],
 "metadata": {
  "kernelspec": {
   "display_name": "Python 3 (ipykernel)",
   "language": "python",
   "name": "python3"
  },
  "language_info": {
   "codemirror_mode": {
    "name": "ipython",
    "version": 3
   },
   "file_extension": ".py",
   "mimetype": "text/x-python",
   "name": "python",
   "nbconvert_exporter": "python",
   "pygments_lexer": "ipython3",
   "version": "3.9.13"
  }
 },
 "nbformat": 4,
 "nbformat_minor": 5
}
