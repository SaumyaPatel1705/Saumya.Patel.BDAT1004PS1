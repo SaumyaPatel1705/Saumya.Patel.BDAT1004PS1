{
 "cells": [
  {
   "cell_type": "markdown",
   "id": "d9f96076",
   "metadata": {},
   "source": [
    "\n",
    "\n",
    "# Q:1 What data type is each of the following?\n",
    "\n"
   ]
  },
  {
   "cell_type": "code",
   "execution_count": 36,
   "id": "82a9a96e",
   "metadata": {},
   "outputs": [
    {
     "name": "stdout",
     "output_type": "stream",
     "text": [
      "System.Int32\r\n"
     ]
    }
   ],
   "source": [
    "dynamic a = 5 ;\n",
    "Console.WriteLine(a.GetType());"
   ]
  },
  {
   "cell_type": "code",
   "execution_count": 35,
   "id": "9d0f0789",
   "metadata": {},
   "outputs": [
    {
     "name": "stdout",
     "output_type": "stream",
     "text": [
      "System.Double\r\n"
     ]
    }
   ],
   "source": [
    "dynamic b = 5.0;\n",
    "Console.WriteLine(b.GetType());"
   ]
  },
  {
   "cell_type": "code",
   "execution_count": 34,
   "id": "69fdcda5",
   "metadata": {},
   "outputs": [
    {
     "name": "stdout",
     "output_type": "stream",
     "text": [
      "System.Boolean\r\n"
     ]
    }
   ],
   "source": [
    "dynamic c = 5 > 1 ;\n",
    "Console.WriteLine(c.GetType());"
   ]
  },
  {
   "cell_type": "code",
   "execution_count": 33,
   "id": "3163f350",
   "metadata": {},
   "outputs": [
    {
     "name": "stdout",
     "output_type": "stream",
     "text": [
      "System.Char\r\n"
     ]
    }
   ],
   "source": [
    "dynamic d = '5' ;\n",
    "Console.WriteLine(d.GetType());"
   ]
  },
  {
   "cell_type": "code",
   "execution_count": 32,
   "id": "170d8ec3",
   "metadata": {},
   "outputs": [
    {
     "name": "stdout",
     "output_type": "stream",
     "text": [
      "System.Int32\r\n"
     ]
    }
   ],
   "source": [
    "dynamic e = 5 * 2 ;\n",
    "Console.WriteLine(e.GetType());"
   ]
  },
  {
   "cell_type": "code",
   "execution_count": 31,
   "id": "b136d4cf",
   "metadata": {},
   "outputs": [
    {
     "name": "stdout",
     "output_type": "stream",
     "text": [
      "System.Int32\r\n"
     ]
    }
   ],
   "source": [
    "dynamic f = '5' * 2 ;\n",
    "Console.WriteLine(f.GetType());"
   ]
  },
  {
   "cell_type": "code",
   "execution_count": 30,
   "id": "163a757d",
   "metadata": {},
   "outputs": [
    {
     "name": "stdout",
     "output_type": "stream",
     "text": [
      "System.Int32\r\n"
     ]
    }
   ],
   "source": [
    "dynamic g = '5' + '2' ;\n",
    "Console.WriteLine(g.GetType()); "
   ]
  },
  {
   "cell_type": "code",
   "execution_count": 29,
   "id": "a1d5d711",
   "metadata": {},
   "outputs": [
    {
     "name": "stdout",
     "output_type": "stream",
     "text": [
      "System.Int32\r\n"
     ]
    }
   ],
   "source": [
    "dynamic h = 5 / 2 ;\n",
    "Console.WriteLine(h.GetType()); "
   ]
  },
  {
   "cell_type": "code",
   "execution_count": 28,
   "id": "45d117bb",
   "metadata": {},
   "outputs": [
    {
     "name": "stdout",
     "output_type": "stream",
     "text": [
      "System.Int32\r\n"
     ]
    }
   ],
   "source": [
    "dynamic i = 5 % 2 ;\n",
    "Console.WriteLine(i.GetType()); "
   ]
  },
  {
   "cell_type": "code",
   "execution_count": 27,
   "id": "d5f501f2",
   "metadata": {},
   "outputs": [
    {
     "name": "stdout",
     "output_type": "stream",
     "text": [
      "System.Object[]\r\n"
     ]
    }
   ],
   "source": [
    "dynamic [] j = {5, 2, 1};\n",
    "Console.WriteLine(j.GetType()); "
   ]
  },
  {
   "cell_type": "code",
   "execution_count": 26,
   "id": "79a1bec1",
   "metadata": {},
   "outputs": [
    {
     "name": "stdout",
     "output_type": "stream",
     "text": [
      "System.Boolean\r\n"
     ]
    }
   ],
   "source": [
    "dynamic k = 5 == 3 ;\n",
    "Console.WriteLine(k.GetType());"
   ]
  },
  {
   "cell_type": "code",
   "execution_count": 25,
   "id": "6e75aa10",
   "metadata": {},
   "outputs": [
    {
     "name": "stdout",
     "output_type": "stream",
     "text": [
      "System.String\r\n"
     ]
    }
   ],
   "source": [
    "dynamic l = \"PI (the number)\" ;\n",
    "Console.WriteLine(l.GetType());"
   ]
  },
  {
   "cell_type": "markdown",
   "id": "e0a2e08e",
   "metadata": {},
   "source": [
    "# Q:2 Write (and evaluate) C# expressions that answer these questions:\n",
    "# A. How many letters are there in 'Supercalifragilisticexpialidocious'?"
   ]
  },
  {
   "cell_type": "code",
   "execution_count": 42,
   "id": "d6c4f1e0",
   "metadata": {},
   "outputs": [
    {
     "name": "stdout",
     "output_type": "stream",
     "text": [
      "The Number of Character in Supercalifragilisticexpialidocious is 34\r\n"
     ]
    }
   ],
   "source": [
    "String input = \"Supercalifragilisticexpialidocious\";\n",
    "int character_count = 0;\n",
    "\n",
    "foreach(char c in input)\n",
    "{\n",
    "    character_count++;\n",
    "}\n",
    "\n",
    "Console.WriteLine(\"The Number of Character in \"+input+ \" is \" + character_count);"
   ]
  },
  {
   "cell_type": "markdown",
   "id": "531b2d11",
   "metadata": {},
   "source": [
    "# B. Does 'Supercalifragilisticexpialidocious' contain 'ice' as a substring? "
   ]
  },
  {
   "cell_type": "code",
   "execution_count": 20,
   "id": "ce73b638",
   "metadata": {},
   "outputs": [
    {
     "name": "stdout",
     "output_type": "stream",
     "text": [
      "The output of this question is:\n",
      "ice is a substring of Supercalifragilisticexpialidocious\n"
     ]
    }
   ],
   "source": [
    "String A =\"Supercalifragilisticexpialidocious\";\n",
    "String B = \"ice\";\n",
    "if(A.Contains(B))\n",
    "    {\n",
    "        Console.WriteLine(\"The output of this question is:\");\n",
    "        Console.WriteLine($\"{B} is a substring of \"+A);\n",
    "\n",
    "    }\n"
   ]
  },
  {
   "cell_type": "markdown",
   "id": "c3ef9471",
   "metadata": {},
   "source": [
    "# C. Which of the following words is the longest:         Supercalifragilisticexpialidocious, Honorificabilitudinitatibus, or  Bababadalgharaghtakamminarronnkonn? "
   ]
  },
  {
   "cell_type": "code",
   "execution_count": 10,
   "id": "cfbab1e3",
   "metadata": {},
   "outputs": [
    {
     "name": "stdout",
     "output_type": "stream",
     "text": [
      "Longest word(s) with length 34 is Supercalifragilisticexpialidocious, Bababadalgharaghtakamminarronnkonn, "
     ]
    }
   ],
   "source": [
    "string[] words = { \"Supercalifragilisticexpialidocious\", \"Honorificabilitudinitatibus\", \"Bababadalgharaghtakamminarronnkonn\" };\n",
    "\n",
    "int maxLength = 0;\n",
    "List<string> longestWords = new List<string>();\n",
    "\n",
    "foreach (string w in words)\n",
    "{\n",
    "    if (w.Length > maxLength)\n",
    "    {\n",
    "        longestWords.Clear();\n",
    "        longestWords.Add(w);\n",
    "        maxLength = w.Length;\n",
    "    }\n",
    "    else if (w.Length == maxLength)\n",
    "    {\n",
    "        longestWords.Add(w);\n",
    "    }\n",
    "}\n",
    "\n",
    "Console.Write(\"Longest word(s) with length \" + maxLength + \" is \");\n",
    "foreach (string lw in longestWords)\n",
    "{\n",
    "    Console.Write(lw + \", \");\n",
    "}\n"
   ]
  },
  {
   "cell_type": "markdown",
   "id": "f4c3faae",
   "metadata": {},
   "source": [
    "# D. Which composer comes first in the dictionary: 'Berlioz', 'Borodin', 'Brian','Bartok', 'Bellini', 'Buxtehude', 'Bernstein'. Which one comes last?\n"
   ]
  },
  {
   "cell_type": "code",
   "execution_count": 22,
   "id": "d0588221",
   "metadata": {},
   "outputs": [
    {
     "name": "stdout",
     "output_type": "stream",
     "text": [
      "First composer in the dictionary: Bartok\r\n"
     ]
    }
   ],
   "source": [
    "string[] composers = { \"Berlioz\", \"Borodin\", \"Brian\", \"Bartok\", \"Bellini\", \"Buxtehude\", \"Bernstein\" };\n",
    "\n",
    "Array.Sort(composers);\n",
    "\n",
    "Console.WriteLine(\"First composer in the dictionary: \" + composers[0]);\n"
   ]
  },
  {
   "cell_type": "markdown",
   "id": "4c8cdbd4",
   "metadata": {},
   "source": [
    "# Q.3   Implement function triangleArea(a,b,c) that takes as input the lengths of the 3 sides of a triangle and returns the area of the triangle. By Heron's formula, the area of a triangle with side lengths a, b, and c is s(s - a)(s -b)(s -c) , where s = (a+b+c)/2."
   ]
  },
  {
   "cell_type": "code",
   "execution_count": 44,
   "id": "ecf7fb5a",
   "metadata": {},
   "outputs": [
    {
     "name": "stdout",
     "output_type": "stream",
     "text": [
      "Area of triangle is : 17.320508075688775\r\n"
     ]
    }
   ],
   "source": [
    "\n",
    "public void TriangularArea(int A, int B,int C)\n",
    "    {\n",
    "        int S = (A+B+C)/2;\n",
    "        int Area = S*(S-A)*(S-B)*(S-C);\n",
    "        Console.WriteLine(\"Area of triangle is : \"+Math.Sqrt(Area));\n",
    "    }\n",
    "TriangularArea( 5, 7, 8)\n",
    "\n"
   ]
  },
  {
   "cell_type": "markdown",
   "id": "c151a005",
   "metadata": {},
   "source": [
    "# Q:4 Write a program in C# Sharp to separate odd and even integers in separate arrays. "
   ]
  },
  {
   "cell_type": "code",
   "execution_count": null,
   "id": "a38249d9",
   "metadata": {},
   "outputs": [],
   "source": [
    "            Console.Write(\"Enter the lenght of the array\");\n",
    "            int len = Convert.ToInt32(Console.ReadLine());\n",
    "\n",
    "            int[] inputArray = new int[len];\n",
    "            for(int i = 0; i<len; i++){\n",
    "                inputArray[i] = Convert.ToInt32(Console.ReadLine());\n",
    "            }\n",
    "            List<int> oddlist = new List<int>();\n",
    "            List<int> evenlist = new List<int>();\n",
    "\n",
    "            foreach (int number in inputArray)\n",
    "            {\n",
    "                if (number % 2 == 0)\n",
    "                {\n",
    "                    evenlist.Add(number);\n",
    "                }\n",
    "                else\n",
    "                {\n",
    "                    oddlist.Add(number);\n",
    "                }\n",
    "            }\n",
    "\n",
    "            Console.WriteLine(\"Input Array: \" + string.Join(\", \", inputArray));\n",
    "            Console.Write(\"Odd List\");\n",
    "            oddlist.ForEach(o => Console.Write(\" \" + o));\n",
    "            Console.WriteLine(\"\");\n",
    "            Console.Write(\"Even List\");\n",
    "            evenlist.ForEach(e => Console.Write(\" \" + e));"
   ]
  },
  {
   "cell_type": "markdown",
   "id": "f487b89d",
   "metadata": {},
   "source": [
    "![output](Output.png)"
   ]
  },
  {
   "cell_type": "markdown",
   "id": "643c342b",
   "metadata": {},
   "source": [
    "# Q:5 A) Write a function inside(x,y,x1,y1,x2,y2) that returns True or False\n",
    "# depending on whether the point (x,y) lies in the rectangle with lower left\n",
    "# corner (x1,y1) and upper right corner (x2,y2)."
   ]
  },
  {
   "cell_type": "code",
   "execution_count": 21,
   "id": "7ff79bed",
   "metadata": {},
   "outputs": [
    {
     "name": "stdout",
     "output_type": "stream",
     "text": [
      "inside(1,1,0,0,2,3):True\n",
      "inside(-1,-1,0,0,2,3):False\n",
      "\n"
     ]
    }
   ],
   "source": [
    "public static bool inside(double x, double y, double x1, double y1, double x2, double y2)\n",
    "{\n",
    "    if (x > x1 && x < x2 &&\n",
    "        y > y1 && y < y2)\n",
    "        return true;\n",
    "\n",
    "    return false;\n",
    "}\n",
    "\n",
    "Console.WriteLine($\"inside(1,1,0,0,2,3):{inside(1,1,0,0,2,3)}\");\n",
    "Console.WriteLine($\"inside(-1,-1,0,0,2,3):{inside(-1,-1,0,0,2,3)}\\n\");\n"
   ]
  },
  {
   "cell_type": "markdown",
   "id": "f80755db",
   "metadata": {},
   "source": [
    "# B) Use function inside() from part a. to write an expression that tests whether\n",
    "# the point (1,1) lies in both of the following rectangles: one with lower left\n",
    "# corner (0.3, 0.5) and upper right corner (1.1, 0.7) and the other with lower\n",
    "# left corner (0.5, 0.2) and upper right corner (1.1, 2). "
   ]
  },
  {
   "cell_type": "code",
   "execution_count": 24,
   "id": "52a566a0",
   "metadata": {},
   "outputs": [
    {
     "name": "stdout",
     "output_type": "stream",
     "text": [
      "\n",
      "The point (1,1) doesn't lie in both of the following rectangles\n",
      "\n",
      "inside(1,1,0.3,0.5,1.1,0.7):False\n",
      "inside(1,1,0.5,0.2,1.1,2):True\n"
     ]
    }
   ],
   "source": [
    "if(inside(1,1,0.3,0.5,1.1,0.7) && inside(1,1,0.5,0.2,1.1,2)){\n",
    "    Console.WriteLine(\"\\nthe point (1,1) lies in both of the following rectangles\");\n",
    "}\n",
    "else{\n",
    "    Console.WriteLine(\"\\nThe point (1,1) doesn't lie in any of the following rectangles\");\n",
    "}\n",
    "Console.WriteLine($\"\\ninside(1,1,0.3,0.5,1.1,0.7):{inside(1,1,0.3,0.5,1.1,0.7)}\");\n",
    "Console.WriteLine($\"inside(1,1,0.5,0.2,1.1,2):{inside(1,1,0.5,0.2,1.1,2)}\");"
   ]
  }
 ],
 "metadata": {
  "kernelspec": {
   "display_name": ".NET (C#)",
   "language": "C#",
   "name": ".net-csharp"
  },
  "language_info": {
   "file_extension": ".cs",
   "mimetype": "text/x-csharp",
   "name": "C#",
   "pygments_lexer": "csharp",
   "version": "11.0"
  }
 },
 "nbformat": 4,
 "nbformat_minor": 5
}
